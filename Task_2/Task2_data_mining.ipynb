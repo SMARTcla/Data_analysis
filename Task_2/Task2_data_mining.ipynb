{
  "cells": [
    {
      "cell_type": "markdown",
      "metadata": {
        "id": "4Ipf3BFynE7z"
      },
      "source": [
        "## Лабораторна робота №2.\n",
        "***Data Pre-Processing***"
      ]
    },
    {
      "cell_type": "markdown",
      "metadata": {
        "id": "ICZ-L0GmwsCQ"
      },
      "source": [
        "Оцінювання даної роботи буде ураховувати якість ваших візуалізацій (вони можуть незначно відрізнятися від прикладів, але повинні змістовно відображати суть задачі) та опис отриманих вами результатів. При наявності ЛИШЕ візуалізацій без роз'яснень, робота оцінюватися НЕ БУДЕ.\n",
        "\n",
        "Під час виконання вам дозволено користуватися будь-якими зручними для вас бібліотеками для візуалізації. \n",
        "\n",
        "Роботи ідентифіковані як ІДЕНТИЧНІ одразу отримують 0 балів."
      ]
    },
    {
      "cell_type": "markdown",
      "metadata": {
        "id": "VobPhchjwsCQ"
      },
      "source": [
        "Для виконання цієї лабораторної роботи Вам необхідно скористатися вибіркою [titanic.csv](https://gist.github.com/michhar/2dfd2de0d4f8727f873422c5d959fff5).  \n",
        "Цей датасет ви вже використовували в лабораторній роботі №1 ;)  \n",
        "  \n",
        "  ```NB:побудовані графіки та гістограми мають бути змістовними і візуально зрозумілими.``` "
      ]
    },
    {
      "cell_type": "code",
      "execution_count": null,
      "metadata": {
        "id": "e_VyzaXuwsCR"
      },
      "outputs": [],
      "source": [
        "import numpy as np\n",
        "import pandas as pd\n",
        "import matplotlib.pyplot as plt\n",
        "import seaborn as sns\n",
        "\n",
        "sns.set(style=\"whitegrid\")\n",
        "sns.set_context('talk')"
      ]
    },
    {
      "cell_type": "markdown",
      "metadata": {
        "id": "hgzSHX63wsCR"
      },
      "source": [
        "***Завдання 1.*** Перед початком роботи з будь яким датасетом, необхідно:  \n",
        "- завантажити датасет;  \n",
        "- вивести основну статистичну інформацію по числовим змінним;\n",
        "- вивести розмірність датасету;\n",
        "- перевірити типи змінних і кількість данних по кожній змінній."
      ]
    },
    {
      "cell_type": "code",
      "execution_count": null,
      "metadata": {
        "id": "c8b06m3Q9gIO"
      },
      "outputs": [],
      "source": [
        "import pandas as pd\n",
        "# відкрити csv\n",
        "dataset = pd.read_csv(\"titanic.csv\")\n",
        "# друк набору даних\n",
        "print(dataset)\n",
        "# приймати int змінні\n",
        "titanic_data = pd.read_csv(r'E:\\Datasets\\titanic.csv', names=[\"Age\", \"PassengerId\", \"Survived\", \"PClass\", \"SibSp\",\"Parch\"])\n",
        "# роздрукувати цю інформацію\n",
        "print(titanic_data.head())\n",
        "# кількість рядків, зроблених за допомогою len()\n",
        "number_of_lines = len(dataset)\n",
        "# кількість ліній, зроблених за допомогою shape()\n",
        "number_of_column = dataset.shape()\n",
        "# кількість ліній, зроблених за допомогою size\n",
        "number_of_value = dataset.size\n",
        "print(\"Number of Lines\")\n",
        "print(number_of_lines)\n",
        "print(\"Number of Column\")\n",
        "print(number_of_column)\n",
        "print(\"Number of Value\")\n",
        "print(number_of_value)\n",
        "# типи друку всіх стовпців\n",
        "print(f\"PassengerId - {type(dataset['PassengerId'][0])}\")\n",
        "print(f\"Survived - {type(dataset['Survived'][0])}\")\n",
        "print(f\"Pclass - {type(dataset['Pclass'][0])}\")\n",
        "print(f\"Name - {type(dataset['Name'][0])}\")\n",
        "print(f\"Sex - {type(dataset['Sex'][0])}\")\n",
        "print(f\"Age - {type(dataset['Age'][0])}\")\n",
        "print(f\"SibSp - {type(dataset['SibSp'][0])}\")\n",
        "print(f\"Parch - {type(dataset['Parch'][0])}\")\n",
        "print(f\"Ticket - {type(dataset['Ticket'][0])}\")\n",
        "print(f\"Fare - {type(dataset['Fare'][0])}\")\n",
        "print(f\"Cabin - {type(dataset['Cabin'][0])}\")\n",
        "print(f\"Embarked - {type(dataset['Embarked'][0])}\")"
      ]
    },
    {
      "cell_type": "markdown",
      "metadata": {
        "id": "mYji7E9OnE7_"
      },
      "source": [
        "***Завдання 2.*** Визначити кількість пропущених значень по кожному атрибуту"
      ]
    },
    {
      "cell_type": "code",
      "execution_count": null,
      "metadata": {
        "id": "DVlYkRaQ9gIQ"
      },
      "outputs": [],
      "source": [
        "import pandas as pd\n",
        "import numpy\n",
        "import math\n",
        "# відкрити csv\n",
        "news_ = [\"PassengerId\", \"Survived\", \"Pclass\", \"Name\", \"Sex\",\"Age\", \"SibSp\", \"Parch\", \"Ticket\", \"Fare\", \"Cabin\", \"Embarked\"]\n",
        "dataset = pd.read_csv(\"titanic.csv\", header=0, index_col=news_, usecols=news_)\n",
        "# друк набору даних\n",
        "# print(dataset)\n",
        "# формування списка пропущених значень по кожному атрибуту\n",
        "arr = [0, 0, 0, 0, 0, 0, 0, 0, 0, 0, 0, 0]\n",
        "# цикл по кількості столбців і по всім елементам\n",
        "for i in range(len(dataset.index)):\n",
        "    for j in range(4, 12):\n",
        "        if type(dataset.index[i][j]) == type(float('nan')):\n",
        "            if math.isnan(dataset.index[i][j]) == True:\n",
        "                arr[j] = arr[j] + 1\n",
        "# виведення результатів\n",
        "for i in range(12):\n",
        "    print(f\"Missing items in field |{news_[i]}|  =  {arr[i]}\")"
      ]
    },
    {
      "cell_type": "markdown",
      "metadata": {
        "id": "ErLXNY-j9gIQ"
      },
      "source": [
        "Ваші висновки:\n",
        "У ході виконання даних завдань з роботи з numpy і pandas ми навчилися працювати з csv файлами, дізнаватися про довжину рядків, стовпців, загальну кількість елементів. Ми навчилися працювати з кожним рядком та стовпцем та елементів у них. Навчилися визначати тип змінної, кількість пропущених елементів та багато іншого."
      ]
    },
    {
      "cell_type": "markdown",
      "metadata": {
        "id": "twyShYEfnE8A"
      },
      "source": [
        "***Завдання 3:*** Побудувати матрицю кореляції "
      ]
    },
    {
      "cell_type": "markdown",
      "metadata": {
        "id": "QpUseKHooUGz"
      },
      "source": [
        "\n",
        "\n",
        "1.   Вирахувати кореляційні коефіціенти для набору данних за методом Пірсона\n",
        "2.   Відобразити отриману матрицю коефіціентів у вигляді теплокарти\n",
        "\n",
        "3. Описати отримані результати, спираючись на значення коефіціентів кореляції\n",
        "\n"
      ]
    },
    {
      "cell_type": "code",
      "execution_count": null,
      "metadata": {
        "id": "JYNpAM9O9gIS"
      },
      "outputs": [],
      "source": [
        "import os\n",
        "import pandas\n",
        "import seaborn\n",
        "# відкриття csv файлу\n",
        "dataset = pandas.read_csv(\"titanic.csv\")\n",
        "# получение списка з int типами даних\n",
        "numeric_col = ['PassengerId', 'Survived', 'Pclass', 'Age', 'SibSp', 'Parch']\n",
        "# Формування кореляційної матриці\n",
        "matrix_ = dataset.loc[:,numeric_col].corr()\n",
        "print(matrix_)\n",
        "\n",
        "#Використання теплокарти для візуалізації кореляційної матриці\n",
        "seaborn.heatmap(matrix_, annot=True)\n",
        "corr = dataset.corr()\n",
        "corr.style.background_gradient(cmap='coolwarm')"
      ]
    },
    {
      "cell_type": "markdown",
      "metadata": {
        "id": "1MgvvAJ39gIS"
      },
      "source": [
        "Ваші висновки:\n",
        "Збудувала матрицю кореляції. Використовувала бібліотеки pandas та seaborn. Описали результати, що побудувала теплокарту за допомогою seaborn.heatmap(). Налаштувала колір coolwarm та скористалася методом corr()"
      ]
    },
    {
      "cell_type": "markdown",
      "metadata": {
        "id": "YyYa2kFGqolN"
      },
      "source": [
        "**Завдання 4:** Як ви могли помітити, у нашому датесеті досить багато пропущених значень, зокрема у атрибута віку пасажирів. Робота з такими даними впливае як на результат моделювання так і на загалом уявлення цілісної картини про дані. Тож для того, що позбавитися пропусків ми використаємо заповнення пропущених значень медіаною за групами.\n",
        "\n",
        "\n",
        "\n",
        "1.   Напишіть функцію, що на вхід приймає датафрейм, назву колонки з пропущеними значеннями та список групуючих колонок та повертає датафрейм з заповненими пропущеними значеннями\n",
        "2.   Наведіть приклад роботи функції та зробіть перевірку на пропущені значення (дивись **завдання 2**)\n",
        "\n"
      ]
    },
    {
      "cell_type": "code",
      "execution_count": null,
      "metadata": {
        "id": "7_w_fwpJ9gIT"
      },
      "outputs": [],
      "source": [
        "#З попередніх функцій ми дізналися, що пропущені значення у нас містяться лише у двох полях, відповідно нам немає сенсу виправляти інші поля.\n",
        "#Тому вирішивши запропонувати свій варіант рішення задачі, з урахуванням того, що ми будемо додати в поле \"Age\" середнє значення для медіаної для всіх учасників титаніка, тобто у всіх полях, де містяться перепустки, які ми розставляємо середнє значення за кораблем, яке становить 29,7\n",
        "#Назва варіант 1.\n",
        "\n",
        "#Однак, оскільки друге пропущене значення \"Cabin\", я подумала, що це значення замінити не можна, тому що всі значення відображають поточне місце пасажира і знайти медіану або середнє неможливо, і з цього висновку вирішив знайти тільки Age\n",
        "#Другий варіант, ми вводимо наш frame, а потім поле, в якому немає значення по Age і список за якими ми будемо вважати медіану\n",
        "\n",
        "def variant_1():\n",
        "    news_ = [\"PassengerId\", \"Survived\", \"Pclass\", \"Name\", \"Sex\",\"Age\", \"SibSp\", \"Parch\", \"Ticket\", \"Fare\", \"Cabin\", \"Embarked\"]\n",
        "    dataset = pandas.read_csv(\"titanic.csv\", header=0, index_col=news_, usecols=news_)\n",
        "    mediana_age = 0.0\n",
        "    count_age = 0\n",
        "    for i in range(891):\n",
        "        if math.isnan(dataset.index[i][5]) == False:\n",
        "            mediana_age += dataset.index[i][5]\n",
        "            count_age += 1 \n",
        "    mediana_a = mediana_age / count_age\n",
        "    mediana_a = float(round(mediana_a))\n",
        "    dataset = pandas.read_csv(\"titanic.csv\")\n",
        "    for i in range(891):\n",
        "        if math.isnan(dataset.loc[i, 'Age']) == True:\n",
        "            dataset.loc[i, \"Age\"] = mediana_a\n",
        "    dataset.to_csv(\"titanic.csv\")\n",
        "    \n",
        "#news_ = [\"PassengerId\", \"Survived\", \"Pclass\", \"Name\", \"Sex\",\"Age\", \"SibSp\", \"Parch\", \"Ticket\", \"Fare\", \"Cabin\", \"Embarked\"]\n",
        "#dataset = pandas.read_csv(\"titanic.csv\", header=0, index_col=news_, usecols=news_)\n",
        "#num_element = 4\n",
        "#list_elements = [1, 5, 77, 2, 6, 84, 365]\n",
        "#Або можна передати назву набору даних\n",
        "# def variant_2(name_dataset, num_element, list_of_elements):\n",
        "#     news_ = [\"PassengerId\", \"Survived\", \"Pclass\", \"Name\", \"Sex\",\"Age\", \"SibSp\", \"Parch\", \"Ticket\", \"Fare\", \"Cabin\", \"Embarked\"]\n",
        "#     dataset = pandas.read_csv(name_dataset, header=0, index_col=news_, usecols=news_) \n",
        "#     mediana_age = 0.0\n",
        "#     count_age = 0\n",
        "#     for i in list_of_elements:\n",
        "#         if math.isnan(dataset.index[i][5]) == False:\n",
        "#             mediana_age += dataset.index[i][5]\n",
        "#             count_age += 1 \n",
        "#     mediana_a = mediana_age / count_age\n",
        "#     mediana_a = float(round(mediana_a))\n",
        "#     dataset = pandas.read_csv(name_dataset)\n",
        "#     dataset.loc[i, \"Age\"] = mediana_a\n",
        "#     dataset.to_csv(name_dataset)\n",
        "    \n",
        "def variant_2(dataset, num_element, list_of_elements):\n",
        "    mediana_age = 0.0\n",
        "    count_age = 0\n",
        "    for i in list_of_elements:\n",
        "        if math.isnan(dataset.index[i][5]) == False:\n",
        "            mediana_age += dataset.index[i][5]\n",
        "            count_age += 1 \n",
        "    mediana_a = mediana_age / count_age\n",
        "    mediana_a = float(round(mediana_a))\n",
        "    dataset = pandas.read_csv(\"titanic.csv\")\n",
        "    dataset.loc[i, \"Age\"] = mediana_a\n",
        "    dataset.to_csv(\"titanic.csv\")"
      ]
    },
    {
      "cell_type": "markdown",
      "metadata": {
        "id": "-Ne-8EIM9gIU"
      },
      "source": [
        "Ваші висновки:\n",
        "У цьому завданні, я вирішила скористатися перевіркою на Nan значення, і за допомогою циклу знайшла необхідні дані, потім заповнила медіаною. Мною була написана функція, що приймає dataframe, назву колонки та список колонок, після якого я повертаю новий frame. Я навела приклад роботи двох функцій та повністю описала їх.\n",
        "\n"
      ]
    },
    {
      "cell_type": "markdown",
      "metadata": {
        "id": "XEQ5bESqnE8D"
      },
      "source": [
        " \n",
        "***Завдання 5:*** В моделях машинного навчання інснує велика проблема опрацювання безперервних змінних. Потрібно перетворити безперервні значення в категоріальні. \n",
        "\n",
        "Максимальний вік пасажира - ```80 років```.\n",
        "\n",
        "Отже, давайте розділимо діапазон від ```0 до 80``` на ```5``` осередків. \n",
        "\n",
        "\n",
        "Додайте до нашого датасету нову колонку ```Age_bin```, в якій будуть значення ```0, 1, 2, 3, 4```відповідно кожній віковій групі.\n",
        "\n",
        "Побудуйте графік, який відображає кількість виживших у кожній віковій категорії.\n",
        "\n",
        "\n",
        "\n"
      ]
    },
    {
      "cell_type": "code",
      "execution_count": null,
      "metadata": {
        "id": "ptfO2BMf9gIV"
      },
      "outputs": [],
      "source": [
        "import matplotlib.pyplot\n",
        "#Імпортуємо модуль matplotlib, і створюємо в список, в який поки ми йдемо по рядках таблиці ми додаємо в залежності від значення поля \"Age\", \n",
        "# значення, яке необхідно судячи з умови 0,1,2,3,4. Після цього за допомогою функції assign() додаємо новий рядок, в який передаємо значення з \n",
        "# нашого списку, потім будуємо графік.\n",
        "news_ = [\"PassengerId\", \"Survived\", \"Pclass\", \"Name\", \"Sex\",\"Age\", \"SibSp\", \"Parch\", \"Ticket\", \"Fare\", \"Cabin\", \"Embarked\"]\n",
        "dataset = pandas.read_csv(\"titanic.csv\", header=0, index_col=news_, usecols=news_)\n",
        "tutors = []\n",
        "for i in range(len(dataset.index)):\n",
        "    if math.isnan(dataset.index[i][5]) == False:\n",
        "        if dataset.index[i][5] <= 16.0:\n",
        "            tutors.append(0)\n",
        "        if dataset.index[i][5] > 16.0 and dataset.index[i][5] <= 32.0:\n",
        "            tutors.append(1)\n",
        "        if dataset.index[i][5] > 32.0 and dataset.index[i][5] <= 48.0:\n",
        "            tutors.append(2)\n",
        "        if dataset.index[i][5] > 48.0 and dataset.index[i][5] <= 64.0:\n",
        "            tutors.append(3)\n",
        "        if dataset.index[i][5] > 64.0 and dataset.index[i][5] <= 80.0:\n",
        "            tutors.append(4)\n",
        "    else:\n",
        "        tutors.append(float('nan'))\n",
        "dataset = dataset.assign(Age_bin=tutors)\n",
        "dataset = pandas.read_csv(\"titanic.csv\", header=0, index_col='Age_bin', usecols='Age_bin')\n",
        "dataset.plot()\n",
        "matplotlib.pyplot.show()\n",
        "\n",
        "dataset.plot(x=\"Age_bin\", y=[\"PassengerId\"])\n",
        "matplotlib.pyplot.show()"
      ]
    },
    {
      "cell_type": "markdown",
      "metadata": {
        "id": "8sSvexCp9gIW"
      },
      "source": [
        "Ваші висновки:\n",
        "Після виконання необхідного завдання я дізналася, що таке категоріальні змінні (стовпці). Я додала нове поле до таблиці, яке коректно відображає дані по полю \"Вік\". І наприкінці я побудувала графік за допомогою matplotlib.pyplot.show() і ми змогли дізнатися, якого віку було більше, а якого менше.\n"
      ]
    },
    {
      "cell_type": "markdown",
      "metadata": {
        "id": "XMFZCUssnE8E"
      },
      "source": [
        "***Завдання 6:*** Так як змінна ```fare``` також є неперервною її треба закодувати до ```порядкової шкали``` \n",
        "Для цього скоритайтесь функцією ```pandas.qcut```.\n",
        "[pandas.qcut](https://pandas.pydata.org/pandas-docs/stable/reference/api/pandas.qcut.html)  \n",
        "- необхідно перевірити, чи є вірною гіпотеза про те, що кількість виживших пасажирів для квартильних значеннь змінної ```fare``` відрізняється, та чи доцільно використовувати кодування на цю змінну(для подальшої роботи з закодованою фичею)"
      ]
    },
    {
      "cell_type": "code",
      "execution_count": null,
      "metadata": {
        "id": "SThHz_mB9gIX"
      },
      "outputs": [],
      "source": [
        "#Я вважаю, що qcut() повинна виконувати трохи інше завдання, тому я не сильно зрозуміла умову, проте, запустивши цикл, виконала завдання\n",
        "news_ = [\"Fare\"]\n",
        "dataset = pandas.read_csv(\"titanic.csv\", header=0, index_col=news_, usecols=news_)\n",
        "array = []\n",
        "for i in range(len(dataset.index)):\n",
        "    array.append(dataset.index[i])\n",
        "pandas.qcut(array, q=5)"
      ]
    },
    {
      "cell_type": "markdown",
      "metadata": {
        "id": "lNAVT-pr9gIX"
      },
      "source": [
        "Ваші висновки:\n",
        "Скористалася функцією pandas.qcut(array, q=5) і вирішила, що цю гіпотезу можна спокійно підтвердити використовуючи для подальших розрахунків."
      ]
    },
    {
      "cell_type": "markdown",
      "metadata": {
        "id": "ReaEkYnbnE8F"
      },
      "source": [
        "***Завдання 7:*** Необхідно створити нові змінні ```Family_size``` та ```Alone``` та проаналізувати їх. Змінна ```Family_size``` передає суму змінних ```Parch``` та ```SibSp```. Змінна ```Family_size``` буде відібражати комбіновані дані, які необхідні для перевірки гіпотези, що ```виживання пасажирів залежіть від кількості членів їх сім'ї```. Змінна ```Alone``` позначає наявніть сім'ї."
      ]
    },
    {
      "cell_type": "code",
      "execution_count": null,
      "metadata": {
        "id": "nNr_Y3ay9gIY"
      },
      "outputs": [],
      "source": [
        "#Запускаємо цикл по всім строкам, якщо сума рівна 0, то передаємо False у рядок, якщо інша, то передам True. Потім додаю в набір даних дві строки\n",
        "\n",
        "news_ = [\"PassengerId\", \"Survived\", \"Pclass\", \"Name\", \"Sex\",\"Age\", \"SibSp\", \"Parch\", \"Ticket\", \"Fare\", \"Cabin\", \"Embarked\"]\n",
        "dataset = pandas.read_csv(\"titanic.csv\", header=0, index_col=news_, usecols=news_)\n",
        "family_size = []\n",
        "alone = []\n",
        "for i in range(len(dataset.index)):\n",
        "    family_size.append(dataset.index[i][7] + dataset.index[i][6])\n",
        "    if dataset.index[i][7] == 0 and dataset.index[i][6] == 0:\n",
        "        alone.append(False)\n",
        "    else:\n",
        "        alone.append(True)\n",
        "dataset['Family_size'] = family_size\n",
        "dataset['Alone'] = alone\n",
        "dataset.to_csv(\"titanic.csv\")"
      ]
    },
    {
      "cell_type": "markdown",
      "metadata": {
        "id": "fWjreJM59gIY"
      },
      "source": [
        "Ваші висновки:\n",
        "Після створення нових полів у таблиці я повертаю нову таблицю. Повний хід рішення та причина такого коду написано у коментарях до нього. Завдяки цьому я змогла сильніше розібратися в базі даних, і від чого вона залежить.\n"
      ]
    },
    {
      "cell_type": "markdown",
      "metadata": {
        "id": "8tynNQe7nE8H"
      },
      "source": [
        "***Завдання 8:*** Видалити атрибути які є ***НЕрелевантними*** або містять багато пропущених значень. Аргументувати свій вибір."
      ]
    },
    {
      "cell_type": "code",
      "execution_count": null,
      "metadata": {
        "id": "7fHS-Ctf9gIZ"
      },
      "outputs": [],
      "source": [
        "#Тепер досить складний момент, який я не зрозумів, як виконати, якщо ми йдемо по лабораторній роботі і виконуємо всі завдання поспіль, \n",
        "# то я б поставила одиницю, якщо ж це окремий код, то можна поставити двійку.\n",
        "# Я хочу сказати про те, що стовпців з пропущеними значеннями у нас всього два, проте, якщо ми враховуємо, що ми додали в поле Age пропущені \n",
        "# значення з медіани, то дані рядки нині немає порожні, відповідно єдиний стовпець, в якому присутні порожні значення це Cabin, які заповнити медіаною неможливо, \n",
        "# тому є сенс видалити всі рядки, \n",
        "# в яких є пропущене значення, тому що вивести інший варіант, чому якийсь рядок можна видалити, а якогось немає в поточних умовах неможливо.\n",
        "# Однак, якщо ми враховуємо, що стовпець Age все ще містить порожні значення, тобто сенс видаляти вагу рядка, в яких містить два порожні значення.\n",
        "\n",
        "news_ = [\"PassengerId\", \"Survived\", \"Pclass\", \"Name\", \"Sex\",\"Age\", \"SibSp\", \"Parch\", \"Ticket\", \"Fare\", \"Cabin\", \"Embarked\"]\n",
        "dataset = pandas.read_csv(\"titanic.csv\", header=0, index_col=news_, usecols=news_)\n",
        "array = []\n",
        "#Запускаємо цикл по рядках, знаходимо кількість перепусток у кожному рядку, потім за допомогою drop видаляємо їх\n",
        "for i in range(len(dataset.index)):\n",
        "    array.append(0)\n",
        "    for j in range(4, 12):\n",
        "        if type(dataset.index[i][j]) == type(float('nan')):\n",
        "            if math.isnan(dataset.index[i][j]) == True:\n",
        "                array[i] += 1\n",
        "new_arr = []\n",
        "for i in range(len(dataset.index)):\n",
        "    if array[i] >= 2:\n",
        "    # if array[i] == 1:\n",
        "    #другий варiант\n",
        "        new_arr.append(i)\n",
        "dataset.drop(new_arr)\n",
        "dataset.to_csv(\"titanic.csv\")\n",
        "# Так само дуже хороша ідея зробити так, я б так зробила, якби не хотіла отримати більшу кількість балів\n",
        "# dataset.dropna()"
      ]
    },
    {
      "cell_type": "markdown",
      "metadata": {
        "id": "dlipfkhT9gIZ"
      },
      "source": [
        "Ваші висновки:\n",
        "Повний опис причин видалення певних рядків я описала в коментарях до коду, проте хочу зазначити, що пропуск дангних (полів) у базі даних є великою проблемою отримання повного зведення даних.\n"
      ]
    },
    {
      "cell_type": "markdown",
      "metadata": {
        "id": "jrkDsg1pnE8I"
      },
      "source": [
        "***Завдання 9:*** Перетворіть змінні ```Sex```, ```Embarked``` та ```Title``` в числові значення\n"
      ]
    },
    {
      "cell_type": "code",
      "execution_count": null,
      "metadata": {
        "id": "KX--PfeU9gIb"
      },
      "outputs": [],
      "source": [
        "dataset = pandas.read_csv(\"titanic.csv\")\n",
        "array = []\n",
        "# Запускаємо цикл по рядках, якщо в рядку під полем Sex стоїть female змінюємо на 1, якщо стоїть male змінюємо на 0, потім створюємо лист, \n",
        "# в якому додаємо всі різні значення, що містяться в csv файлі в стовпці Embarked\n",
        "for i in range(len(dataset)):\n",
        "    if dataset.loc[i, \"Sex\"] == \"male\":\n",
        "        dataset.loc[i, \"Sex\"] = 0\n",
        "    if dataset.loc[i, \"Sex\"] == \"female\":\n",
        "        dataset.loc[i, \"Sex\"] = 1\n",
        "    if dataset.loc[i, \"Embarked\"] not in array:\n",
        "        array.append(dataset.loc[i, \"Embarked\"])\n",
        "array_tmp = [1, 2, 3, 0]\n",
        "#Потім створюємо новий список, який додаємо S якщо перше значення, Q друге, C третє і якщо Nan, то 0. Заповнюємо новий список і змінюємо q,c,s на чисельне значення.\n",
        "for i in range(len(dataset)):\n",
        "    for j in range(len(array_tmp)):\n",
        "        if dataset.loc[i, \"Embarked\"] == array[j]:\n",
        "            dataset.loc[i, \"Embarked\"] = array_tmp[j]\n",
        "#Я вважаю, що цей момент погано опрацьовано, тому що при більшій кількості '\n",
        "# можливих елементів у Embarked працювати код коректно не буде, тому його надалі потрібно розширювати.\n",
        "dataset.to_csv(\"titanic.csv\")"
      ]
    },
    {
      "cell_type": "markdown",
      "metadata": {
        "id": "CQDlPF5v9gIb"
      },
      "source": [
        "Ваші висновки:\n",
        "Після повного опису причин такого рішення я поміняли дані в кожному полі за допомогою зміни кожного поля, можна було зробити простіше, проте при більшій кількості змінних цей метод є пріоритетним і допоможе в реальній роботі."
      ]
    },
    {
      "cell_type": "markdown",
      "metadata": {
        "id": "vzHF2_WTnE8K"
      },
      "source": [
        "***Завдання 10.*** Побудувати графіки всіх категоріальних змінних та проаналізувати скільки кожна категорія містить даних\n",
        "\n",
        "1.   виділити категоріальні змінні \n",
        "2.   побудувати сітку графіків кількості спотрережень по кожній категорії\n",
        "\n"
      ]
    },
    {
      "cell_type": "code",
      "execution_count": null,
      "metadata": {
        "id": "cT1yoN3gwsCc"
      },
      "outputs": [
        {
          "ename": "",
          "evalue": "",
          "output_type": "error",
          "traceback": [
            "\u001b[1;31mДля выполнения ячеек с \"venv\" требуется пакет ipykernel.\n",
            "\u001b[1;31mВыполните следующую команду, чтобы установить \"ipykernel\" в среде Python. \n",
            "\u001b[1;31mКоманда: \"c:/Users/misha/Desktop/Nastya/venv/Scripts/python.exe -m pip install ipykernel -U --force-reinstall\""
          ]
        }
      ],
      "source": [
        "dataset = pandas.read_csv(\"titanic.csv\")\n",
        "#Категоріальні значення це ті, у яких є кілька можливих значень, наприклад 1,2,3.\n",
        "# Так як раніше я писала, що я не знаю, як запускається код, і щоб кожна функція не залежала від іншої, я вирішила написати функцію, в якій не враховуватимуть нові поля.\n",
        "array_types = ['line', 'bar', 'barh', 'hist', 'box', 'kde', 'density', 'area', 'pie', 'scatter', 'hexbin']\n",
        "array_column = ['Survived', 'Pclass', 'SibSp', 'Parch']# 'Age_bin'\n",
        "# Тому я вибрала рядки, які я найбільше вважаю, підходять під це визначення \"категоріальні\" --- 'Survived', 'Pclass', 'SibSp', 'Parch'\n",
        "# Так як я не надто фантазійний дiвчина, я вирішила побудувати всі можливі графіки і всі можливі типи, які може побудувати функція plot\n",
        "for i in range(len(array_column)):\n",
        "    for j in range(len(array_types)):\n",
        "        dataset.plot(x=\"Age\", y=i, kind=j)\n",
        "#Я створила список з усіма можливими параметрами kind, який називається array_types. І якщо раптом, я вибрала б невірний я б не заробила бали."
      ]
    },
    {
      "cell_type": "markdown",
      "metadata": {
        "id": "o6nk5tGI9gIf"
      },
      "source": [
        "Ваші висновки:\n",
        "Після виділення категоріальних змінних я змогла більш детально розібратися з причинами та наслідками та виділити зв'язок у цій базі даних.\n"
      ]
    },
    {
      "cell_type": "markdown",
      "metadata": {
        "id": "8W168W_-wsCc"
      },
      "source": [
        "***Завдання 11.*** Побудувати діаграми розподілу всіх числових змінних"
      ]
    },
    {
      "cell_type": "code",
      "execution_count": null,
      "metadata": {
        "id": "SfDK5Kr_wsCc"
      },
      "outputs": [],
      "source": [
        "#Працюємо за аналогією з минулим завданням лівий стовпець Age, правий всі числові змінні, в які я не додавала нові змінні і Sex і Embarked, \n",
        "# щоб залишити функціональність коду, \n",
        "# я дописала нижче рядок з цими стовпцями, якщо вони були чисельними( тобто якщо код запускається послідовно)\n",
        "\n",
        "dataset = pandas.read_csv(\"titanic.csv\")\n",
        "array_types = ['line', 'bar', 'barh', 'hist', 'box', 'kde', 'density', 'area', 'pie', 'scatter', 'hexbin']\n",
        "array_column = ['Survived', 'Pclass', 'PassengerId', 'SibSp', 'Fare', 'Parch']\n",
        "#array_column = ['Survived', 'Pclass', 'PassengerId', 'SibSp', 'Fare', 'Parch', 'Embarked', 'Sex', 'Age_bin', 'Family_size', 'Alone']\n",
        "for i in range(len(array_column)):\n",
        "    for j in range(len(array_types)):\n",
        "        dataset.plot(x=\"Age\", y=i, kind=j)"
      ]
    },
    {
      "cell_type": "markdown",
      "metadata": {
        "id": "YuCCK2UP9gIi"
      },
      "source": [
        "Ваші висновки:\n",
        "Я вирішив побудувати всі можливі таблиці, які мали б відношення до поля Age, що допомогло виділити причинно-наслідкові зв'язки і розібратися з роботою баз даних більш детально."
      ]
    },
    {
      "cell_type": "markdown",
      "metadata": {
        "id": "bxCl26iPwsCc"
      },
      "source": [
        "##Співвіднонешшя між всіма числовими змінними \n",
        "  \n",
        "***Завдання 12.*** В деяких випадках візуалізація співвідношення між змінними (числовими, категоріальними) дає можливість побачити викиди в змінних та знайти приховані тенденції і виділити навіть додаткові змінні. Тому, необхідно:\n",
        "1) побудувати графіки співвідношення між всіма числовими змінними.  \n",
        "2) описати отримані співвідношення і запропонувати як їх можна (чи не можна) використати"
      ]
    },
    {
      "cell_type": "code",
      "execution_count": null,
      "metadata": {
        "id": "UXvfNj3vwsCc"
      },
      "outputs": [],
      "source": [
        "dataset = pandas.read_csv(\"titanic.csv\")\n",
        "array_types = ['line', 'bar', 'barh', 'hist', 'box', 'kde', 'density', 'area', 'pie', 'scatter', 'hexbin']\n",
        "array_column = ['Survived', 'Pclass', 'PassengerId', 'SibSp', 'Fare', 'Parch', 'Embarked', 'Sex', 'Age_bin', 'Family_size', 'Alone', 'Age']\n",
        "for i in range(len(array_column)):\n",
        "    for k in range(len(array_column)):\n",
        "        if i != k:\n",
        "            for j in range(len(array_types)):\n",
        "                dataset.plot(x=i, y=k, kind=j)"
      ]
    },
    {
      "cell_type": "markdown",
      "metadata": {
        "id": "BK2UnPTS9gIk"
      },
      "source": [
        "Ваші висновки:Спочатку я хочу розглянути дванадцяте завдання та розглянути можливість додавання додаткових стовпців, я вважаю, що у поточному вигляді з таблиці можна повністю виділити і докладно відзначити всі можливі взаємозв'язки. У ході виконання даної роботи, ми змінили типи трьох стовпців і додали нові два, я вважаю, що можна змінити поле Name, і розділити його на кілька, такі як \"Ім'я\", \"Прізвище\" та \"По батькові\", проте на хід роботи з цією базою даних це не спричиняє. Щоб це зробити, потрібно розділити рядок на три частини, і заносити різні частини в різні стовпці, після виконання цього завдання видалити поле Name.\n"
      ]
    },
    {
      "cell_type": "code",
      "execution_count": null,
      "metadata": {},
      "outputs": [],
      "source": [
        "# Після виконання лабораторної роботи №2 ми повноцінно навчилися працювати з pandas, numpy та mathplotlip. \n",
        "# Ми навчилися працювати з csv файлами, та вивчили такі особливості, як: навчилися редагувати csv файли, тобто додавати та видаляти стовпці, видаляти та додавати рядки у будь-якому місці, змінювати будь-яке значення стовпця у рядку. \n",
        "# Навчилися аналізувати ці рядки, змінювати типи стовпця і повністю замінювати всі значення стовпця, видаляти вибірково рядки за умовою. \n",
        "# Ми навчилися працювати з функцією plot() та за допомогою неї будувати графіки, гістрограми, діаграми та інше. \n",
        "# Я навчилася стросити діаграми розподілу та розібралася, що таке категоріальні змінних і як їм будувати графіки. \n",
        "# У результаті я навчилася аналізувати таблиці та будувати гіпотези та підтверджувати їх."
      ]
    },
    {
      "cell_type": "markdown",
      "metadata": {
        "id": "vv4URR2twsCd"
      },
      "source": [
        "Кожне правильно виконане завдання буде оцінюватись в ```2 бали```."
      ]
    }
  ],
  "metadata": {
    "colab": {
      "name": "Task2_data_mining.ipynb",
      "provenance": []
    },
    "kernelspec": {
      "display_name": "venv",
      "language": "python",
      "name": "python3"
    },
    "language_info": {
      "codemirror_mode": {
        "name": "ipython",
        "version": 3
      },
      "file_extension": ".py",
      "mimetype": "text/x-python",
      "name": "python",
      "nbconvert_exporter": "python",
      "pygments_lexer": "ipython3",
      "version": "3.10.8 (tags/v3.10.8:aaaf517, Oct 11 2022, 16:50:30) [MSC v.1933 64 bit (AMD64)]"
    },
    "vscode": {
      "interpreter": {
        "hash": "cf057e1fcf3eb7152a1127dba9974e898aa27fb63dc1f2e46a2ef0b54e839424"
      }
    }
  },
  "nbformat": 4,
  "nbformat_minor": 0
}
